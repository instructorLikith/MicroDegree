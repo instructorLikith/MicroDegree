{
 "cells": [
  {
   "cell_type": "code",
   "execution_count": 2,
   "id": "582455bc-a598-46af-bfea-d4251b5a5985",
   "metadata": {},
   "outputs": [
    {
     "name": "stdout",
     "output_type": "stream",
     "text": [
      "Hello World\n",
      "100\n"
     ]
    }
   ],
   "source": [
    "print(\"Hello World\")\n",
    "print(100)"
   ]
  },
  {
   "cell_type": "markdown",
   "id": "7fb201a6-af86-4851-bed7-77e7f18d9315",
   "metadata": {},
   "source": [
    "# Variable Types"
   ]
  },
  {
   "cell_type": "code",
   "execution_count": 16,
   "id": "5cc1f2b1-3e5d-4174-b072-d90ac4b28059",
   "metadata": {},
   "outputs": [
    {
     "name": "stdout",
     "output_type": "stream",
     "text": [
      "100\n",
      "<class 'int'>\n",
      "Hello\n",
      "<class 'str'>\n",
      "False\n",
      "<class 'bool'>\n",
      "1.0\n",
      "<class 'float'>\n"
     ]
    }
   ],
   "source": [
    "#int\n",
    "x= 100\n",
    "print(x)\n",
    "print(type(x))\n",
    "\n",
    "#String\n",
    "y= \"Hello\"\n",
    "print(y)\n",
    "print(type(y))\n",
    "\n",
    "#Boolean\n",
    "z= False\n",
    "print(z)\n",
    "print(type(z))\n",
    "\n",
    "#Float\n",
    "a= 1.0\n",
    "print(a)\n",
    "print(type(a))"
   ]
  },
  {
   "cell_type": "markdown",
   "id": "67c89218-6c9a-4866-84e7-a42ff5b212b1",
   "metadata": {},
   "source": [
    "# List Tuple Set Dictionary"
   ]
  },
  {
   "cell_type": "code",
   "execution_count": 33,
   "id": "76ba1326-4af8-4fd7-9002-4f76bb7daa18",
   "metadata": {},
   "outputs": [
    {
     "name": "stdout",
     "output_type": "stream",
     "text": [
      "[100, 200, 500, 'Hello']\n",
      "200\n",
      "Hello\n",
      "[200, 300]\n",
      "[100, 200, 500, 'Hello']\n"
     ]
    }
   ],
   "source": [
    "#List\n",
    "#mutable\n",
    "sample_list = [100,200,300,\"Hello\"]\n",
    "print(sample)\n",
    "\n",
    "#Indexing\n",
    "print(sample_list[1])\n",
    "print(sample_list[-1])\n",
    "print(sample_list[1:3])\n",
    "\n",
    "#Update\n",
    "sample_list[2] = 500\n",
    "print(sample_list)"
   ]
  },
  {
   "cell_type": "code",
   "execution_count": 38,
   "id": "ce2469b5-7773-44ee-9136-de49359b160b",
   "metadata": {},
   "outputs": [
    {
     "name": "stdout",
     "output_type": "stream",
     "text": [
      "(900, 800, 700, 600)\n",
      "(900, 800, 700)\n"
     ]
    }
   ],
   "source": [
    "#tuple\n",
    "#immutable\n",
    "sample_tuple = (900,800,700,600)\n",
    "print(sample_tuple)\n",
    "print(sample_tuple[0:3])"
   ]
  },
  {
   "cell_type": "code",
   "execution_count": 48,
   "id": "d87824af-eeb8-4a41-a6fa-81eabd53ef80",
   "metadata": {},
   "outputs": [
    {
     "name": "stdout",
     "output_type": "stream",
     "text": [
      "{200, 600, 500, 400}\n",
      "{8000, 200, 400, 500, 600}\n",
      "{8000, 200, 400, 600}\n",
      "{8000, 200, 400, 600, 700}\n"
     ]
    }
   ],
   "source": [
    "#Set\n",
    "#No Duplicates allowed in set\n",
    "sample_set = {200,400,500,600}\n",
    "print(sample_set)\n",
    "#Add New element to Set\n",
    "sample_set.add(8000)\n",
    "print(sample_set)\n",
    "#Remove Element from Set\n",
    "sample_set.remove(500)\n",
    "print(sample_set)\n",
    "sample_set.add(700)\n",
    "print(sample_set)"
   ]
  },
  {
   "cell_type": "code",
   "execution_count": 53,
   "id": "b2d00b35-c34c-4ca9-a344-1b7615db9417",
   "metadata": {},
   "outputs": [
    {
     "name": "stdout",
     "output_type": "stream",
     "text": [
      "[100, 200, 100, 200, 300, 'Hello']\n",
      "{200, 'Hello', 100, 300}\n",
      "(100, 200, 100, 200, 300, 'Hello')\n"
     ]
    }
   ],
   "source": [
    "sample = [100,200,100,200,300,\"Hello\"]\n",
    "print(sample)\n",
    "#Converting List into Set\n",
    "new_sample = set(sample)\n",
    "print(new_sample)\n",
    "#Converting List into Tuple\n",
    "new_tuple = tuple(sample)\n",
    "print(new_tuple)"
   ]
  },
  {
   "cell_type": "code",
   "execution_count": 58,
   "id": "a91646e0-00d7-40c7-9b80-55c6ca72db87",
   "metadata": {},
   "outputs": [
    {
     "name": "stdout",
     "output_type": "stream",
     "text": [
      "{'x': 100, 'y': 200, 'z': 300}\n",
      "dict_keys(['x', 'y', 'z'])\n",
      "dict_values([100, 200, 300])\n",
      "{'x': 111, 'y': 200, 'z': 300}\n",
      "{'x': 111, 'y': 200, 'z': 300, 'a': 400}\n"
     ]
    }
   ],
   "source": [
    "#Dictionary\n",
    "#key : Value\n",
    "sample_dict = {\"x\":100,\"y\":200,\"z\":300}\n",
    "print(sample_dict)\n",
    "\n",
    "print(sample_dict.keys())\n",
    "print(sample_dict.values())\n",
    "\n",
    "#Update Value\n",
    "sample_dict[\"x\"] = 111\n",
    "print(sample_dict)\n",
    "\n",
    "#Add New key Value Pair\n",
    "sample_dict[\"a\"] = 400\n",
    "print(sample_dict)"
   ]
  },
  {
   "cell_type": "markdown",
   "id": "d197e23f-2bd3-4160-8770-acc12fb77d32",
   "metadata": {},
   "source": [
    "# Conditional Statements"
   ]
  },
  {
   "cell_type": "code",
   "execution_count": 67,
   "id": "721adcfa-7992-4663-a3d9-bd76ae9afabb",
   "metadata": {},
   "outputs": [
    {
     "name": "stdout",
     "output_type": "stream",
     "text": [
      "Distinction\n"
     ]
    }
   ],
   "source": [
    "marks = 100\n",
    "if marks >= 35 and marks <= 59:\n",
    "    print(\"Pass\")\n",
    "elif marks >= 60 and marks <= 79:\n",
    "    print(\"First Class\")\n",
    "elif marks >= 80 and marks <= 100:\n",
    "    print(\"Distinction\")\n",
    "else:\n",
    "    print(\"Fail\")"
   ]
  },
  {
   "cell_type": "markdown",
   "id": "ed38a522-c30a-4b0c-ab9d-b3bf7ff91684",
   "metadata": {},
   "source": [
    "# Loops"
   ]
  },
  {
   "cell_type": "code",
   "execution_count": 93,
   "id": "90558074-00c6-4ebd-9523-bbc7eee3eca1",
   "metadata": {},
   "outputs": [
    {
     "name": "stdout",
     "output_type": "stream",
     "text": [
      "100\n",
      "200\n",
      "300\n",
      "Hello\n",
      "Range with single Value\n",
      "0\n",
      "1\n",
      "2\n",
      "3\n",
      "4\n",
      "Range with two Values\n",
      "5\n",
      "6\n",
      "7\n",
      "8\n",
      "9\n",
      "Range with three Values\n"
     ]
    },
    {
     "ename": "TypeError",
     "evalue": "'str' object cannot be interpreted as an integer",
     "output_type": "error",
     "traceback": [
      "\u001b[1;31m---------------------------------------------------------------------------\u001b[0m",
      "\u001b[1;31mTypeError\u001b[0m                                 Traceback (most recent call last)",
      "Cell \u001b[1;32mIn[93], line 15\u001b[0m\n\u001b[0;32m     12\u001b[0m     \u001b[38;5;28mprint\u001b[39m(item)\n\u001b[0;32m     14\u001b[0m \u001b[38;5;28mprint\u001b[39m(\u001b[38;5;124m\"\u001b[39m\u001b[38;5;124mRange with three Values\u001b[39m\u001b[38;5;124m\"\u001b[39m)\n\u001b[1;32m---> 15\u001b[0m \u001b[38;5;28;01mfor\u001b[39;00m item \u001b[38;5;129;01min\u001b[39;00m \u001b[38;5;28;43mrange\u001b[39;49m\u001b[43m(\u001b[49m\u001b[38;5;124;43m\"\u001b[39;49m\u001b[38;5;124;43ma\u001b[39;49m\u001b[38;5;124;43m\"\u001b[39;49m\u001b[43m,\u001b[49m\u001b[38;5;124;43m\"\u001b[39;49m\u001b[38;5;124;43mz\u001b[39;49m\u001b[38;5;124;43m\"\u001b[39;49m\u001b[43m,\u001b[49m\u001b[38;5;241;43m2\u001b[39;49m\u001b[43m)\u001b[49m:\n\u001b[0;32m     16\u001b[0m     \u001b[38;5;28mprint\u001b[39m(item)\n",
      "\u001b[1;31mTypeError\u001b[0m: 'str' object cannot be interpreted as an integer"
     ]
    }
   ],
   "source": [
    "# for loop\n",
    "sample = [100,200,300,\"Hello\"]\n",
    "for item in sample:\n",
    "    print(item)\n",
    "\n",
    "print(\"Range with single Value\")\n",
    "for item in range(5):\n",
    "    print(item)\n",
    "\n",
    "print(\"Range with two Values\")\n",
    "for item in range(5,10):\n",
    "    print(item)\n",
    "\n",
    "print(\"Range with three Values\")\n",
    "for item in range(10,20,2):\n",
    "    print(item)"
   ]
  },
  {
   "cell_type": "code",
   "execution_count": 74,
   "id": "39089f9e-e643-4b7b-873d-4d3b42933861",
   "metadata": {},
   "outputs": [
    {
     "name": "stdout",
     "output_type": "stream",
     "text": [
      "200\n",
      "200\n",
      "Hello\n"
     ]
    }
   ],
   "source": [
    "sample = [100,200,100,200,300,\"Hello\"]\n",
    "for i in range(1,len(sample),2):\n",
    "    print(sample[i])"
   ]
  },
  {
   "cell_type": "markdown",
   "id": "9f43ed11-0b22-469c-b0a9-b0045a7f4fe6",
   "metadata": {},
   "source": [
    "# While Loop"
   ]
  },
  {
   "cell_type": "code",
   "execution_count": 84,
   "id": "a1e963d3-a229-4e3d-898c-593286bd6c39",
   "metadata": {},
   "outputs": [
    {
     "name": "stdout",
     "output_type": "stream",
     "text": [
      "0\n",
      "1\n",
      "2\n",
      "3\n",
      "4\n",
      "6\n",
      "7\n"
     ]
    }
   ],
   "source": [
    "xx = 0\n",
    "while xx<8:\n",
    "    if xx==5:\n",
    "        xx+=1\n",
    "        continue\n",
    "    print(xx)\n",
    "    xx+=1"
   ]
  },
  {
   "cell_type": "markdown",
   "id": "cabbf328-0b40-437b-b935-24ad87da48f2",
   "metadata": {},
   "source": [
    "# Functions"
   ]
  },
  {
   "cell_type": "code",
   "execution_count": 85,
   "id": "3e7bb450-f56c-4bd6-afbb-5e455a201314",
   "metadata": {},
   "outputs": [
    {
     "name": "stdout",
     "output_type": "stream",
     "text": [
      "Hello world\n"
     ]
    }
   ],
   "source": [
    "def greet():\n",
    "    print(\"Hello world\")\n",
    "\n",
    "greet()"
   ]
  },
  {
   "cell_type": "code",
   "execution_count": 86,
   "id": "d96a41ff-ba39-4f4f-8876-9d6451e14c1b",
   "metadata": {},
   "outputs": [
    {
     "name": "stdout",
     "output_type": "stream",
     "text": [
      "Hello All\n"
     ]
    }
   ],
   "source": [
    "def greet(name):\n",
    "    print(f\"Hello {name}\")\n",
    "greet(\"All\")"
   ]
  },
  {
   "cell_type": "code",
   "execution_count": 87,
   "id": "fa9f326a-1c60-49eb-ad91-a3a2edd49b45",
   "metadata": {},
   "outputs": [
    {
     "name": "stdout",
     "output_type": "stream",
     "text": [
      "ABC XYZ\n"
     ]
    }
   ],
   "source": [
    "def greet(fname, lname):\n",
    "    print(f\"{fname} {lname}\")\n",
    "\n",
    "greet(\"ABC\",\"XYZ\")"
   ]
  },
  {
   "cell_type": "code",
   "execution_count": 91,
   "id": "89753ff1-ea1c-40c1-8524-773f0d9080bd",
   "metadata": {},
   "outputs": [
    {
     "name": "stdout",
     "output_type": "stream",
     "text": [
      "fname='ABC' lname='XYZ' email='xyz@gmail.com'\n"
     ]
    }
   ],
   "source": [
    "def greet(fname, lname, email = \"abc@gmail.com\"):\n",
    "    print(f\"{fname=} {lname=} {email=}\")\n",
    "\n",
    "greet(\"ABC\",\"XYZ\",\"xyz@gmail.com\")"
   ]
  },
  {
   "cell_type": "code",
   "execution_count": 92,
   "id": "4c6a5fbb-c15e-44a5-98be-0eb80daa03c5",
   "metadata": {},
   "outputs": [
    {
     "name": "stdout",
     "output_type": "stream",
     "text": [
      "fname='ABC' lname='XYZ'\n",
      "args=('383998398', 'Hello', 'World')\n"
     ]
    }
   ],
   "source": [
    "def greet(fname, lname,*args):\n",
    "    print(f\"{fname=} {lname=}\")\n",
    "    print(f\"{args=}\")\n",
    "\n",
    "greet(\"ABC\",\"XYZ\",\"383998398\",\"Hello\",\"World\")"
   ]
  },
  {
   "cell_type": "code",
   "execution_count": null,
   "id": "eb85581e-e736-469b-9863-38e3b74f2145",
   "metadata": {},
   "outputs": [],
   "source": []
  }
 ],
 "metadata": {
  "kernelspec": {
   "display_name": "Python 3 (ipykernel)",
   "language": "python",
   "name": "python3"
  },
  "language_info": {
   "codemirror_mode": {
    "name": "ipython",
    "version": 3
   },
   "file_extension": ".py",
   "mimetype": "text/x-python",
   "name": "python",
   "nbconvert_exporter": "python",
   "pygments_lexer": "ipython3",
   "version": "3.12.5"
  }
 },
 "nbformat": 4,
 "nbformat_minor": 5
}
