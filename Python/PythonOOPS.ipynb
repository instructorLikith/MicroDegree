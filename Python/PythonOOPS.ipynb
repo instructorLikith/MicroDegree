{
 "cells": [
  {
   "cell_type": "markdown",
   "id": "ad573422-10e0-4860-91d0-53d7a5b1faa6",
   "metadata": {},
   "source": [
    "# Class Example"
   ]
  },
  {
   "cell_type": "code",
   "execution_count": 1,
   "id": "0724b13b-4dfe-4814-b29c-6bd0967e88f7",
   "metadata": {},
   "outputs": [],
   "source": [
    "class Student():\n",
    "    name = \"\"\n",
    "    lname = \"\""
   ]
  },
  {
   "cell_type": "code",
   "execution_count": 2,
   "id": "e4cc5734-2975-47a0-9d5f-54774c81e8a9",
   "metadata": {},
   "outputs": [
    {
     "name": "stdout",
     "output_type": "stream",
     "text": [
      "std1.name='Student1', std1.lname='Student2'\n"
     ]
    }
   ],
   "source": [
    "std1 = Student()\n",
    "std1.name = \"Student1\"\n",
    "std1.lname = \"Student2\"\n",
    "print(f\"{std1.name=}, {std1.lname=}\")"
   ]
  },
  {
   "cell_type": "markdown",
   "id": "41c915b2-85f0-4e9d-bacd-3e33f6406765",
   "metadata": {},
   "source": [
    "# Constructors"
   ]
  },
  {
   "cell_type": "code",
   "execution_count": 28,
   "id": "3c6b03bd-faf4-4767-ad10-f24f8de96920",
   "metadata": {},
   "outputs": [
    {
     "data": {
      "text/plain": [
       "'First.Last@gmail.com'"
      ]
     },
     "execution_count": 28,
     "metadata": {},
     "output_type": "execute_result"
    }
   ],
   "source": [
    "class Students():\n",
    "\n",
    "    def __init__(self,name,lname):\n",
    "        self.name = name\n",
    "        self.lname = lname\n",
    "        self.email = f\"{self.name}.{self.lname}@gmail.com\"\n",
    "        self.__salary = 30000  # Private\n",
    "\n",
    "    def get_email(self):\n",
    "        return self.email\n",
    "\n",
    "    def get_tax(self):\n",
    "        tax = self.__salary*100/30\n",
    "        return tax\n",
    "\n",
    "std1 = Students(\"First\",\"Last\")\n",
    "std1.get_email()"
   ]
  },
  {
   "cell_type": "markdown",
   "id": "885d72dc-9785-4a3e-855d-905185b50759",
   "metadata": {},
   "source": [
    "# Encapsulation"
   ]
  },
  {
   "cell_type": "code",
   "execution_count": 29,
   "id": "fdce96c1-dd3e-4563-b2a7-1e9f791577f4",
   "metadata": {},
   "outputs": [
    {
     "data": {
      "text/plain": [
       "('First', 'Last', 'First.Last@gmail.com', 'First.Last@gmail.com', 100000.0)"
      ]
     },
     "execution_count": 29,
     "metadata": {},
     "output_type": "execute_result"
    }
   ],
   "source": [
    "std1 = Students(\"First\",\"Last\")\n",
    "std1.name,std1.lname,std1.email,std1.get_email(),std1.get_tax()"
   ]
  },
  {
   "cell_type": "markdown",
   "id": "234c8301-3480-4944-b449-120e63a5ac3e",
   "metadata": {},
   "source": [
    "# Inheritance"
   ]
  },
  {
   "cell_type": "code",
   "execution_count": 32,
   "id": "4629bda1-b2d9-49aa-aea4-896953ec85c1",
   "metadata": {},
   "outputs": [
    {
     "name": "stdout",
     "output_type": "stream",
     "text": [
      "Base class Constructor\n",
      "Car name :car1\n",
      " Model Name :v1\n",
      " Year :2020\n",
      " Milage : 15kmpl\n"
     ]
    }
   ],
   "source": [
    "class base_class():\n",
    "    def __init__(self,name,model,year,milage):\n",
    "        self.name = name\n",
    "        self.model = model\n",
    "        self.year = year\n",
    "        self.milage = milage\n",
    "        print(\"Base class Constructor\")\n",
    "\n",
    "    def ShowDetails(self):\n",
    "        print(f\"Car name :{self.name}\\n Model Name :{self.model}\\n Year :{self.year}\\n Milage : {self.milage}\")\n",
    "\n",
    "base1 = base_class(\"car1\",\"v1\",\"2020\",\"15kmpl\")\n",
    "base1.ShowDetails()"
   ]
  },
  {
   "cell_type": "code",
   "execution_count": 34,
   "id": "06fed723-7337-4e5d-8c80-ff669aa2ac06",
   "metadata": {},
   "outputs": [
    {
     "name": "stdout",
     "output_type": "stream",
     "text": [
      "Base class Constructor\n",
      "Child Class Constructor\n",
      "Car name :car2\n",
      " Model Name :v1\n",
      " Year :2020\n",
      " Milage : 15kmpl\n"
     ]
    },
    {
     "data": {
      "text/plain": [
       "(90, None)"
      ]
     },
     "execution_count": 34,
     "metadata": {},
     "output_type": "execute_result"
    }
   ],
   "source": [
    "class NewClass(base_class):\n",
    "    def __init__(self,name,model,year,milage,cl):\n",
    "        super().__init__(name,model,year,milage)\n",
    "        self.charge = cl\n",
    "        print(\"Child Class Constructor\")\n",
    "\n",
    "new1 = NewClass(\"car2\",\"v1\",\"2020\",\"15kmpl\",90)\n",
    "new1.charge, new1.ShowDetails()"
   ]
  },
  {
   "cell_type": "markdown",
   "id": "7efd2120-e1f1-49e2-ba69-24ddc59eb26a",
   "metadata": {},
   "source": [
    "# Dunder Methods"
   ]
  },
  {
   "cell_type": "code",
   "execution_count": 47,
   "id": "86c413c5-61a8-4b93-a0b8-b97a49bd5450",
   "metadata": {},
   "outputs": [],
   "source": [
    "class Sample():\n",
    "    def __init__(self,name,score):\n",
    "        self.name = name\n",
    "        self.score = score\n",
    "    def IncreaseScore(self):\n",
    "        self.score+=1\n",
    "    def DecreaseScore(self):\n",
    "        self.score-=1\n",
    "\n",
    "    def __repr__(self):\n",
    "        return \"Sample Class with Name and Score\"\n",
    "    def __len__(self):\n",
    "        return self.score\n",
    "    def __gt__(self,other):\n",
    "        return self.score >other.score\n",
    "\n",
    "obj1 = Sample(\"ABC\",90)\n",
    "obj2 = Sample(\"XYZ\",80)"
   ]
  },
  {
   "cell_type": "code",
   "execution_count": 39,
   "id": "f0e4b2f1-7203-4797-96e8-aacebd802cc4",
   "metadata": {},
   "outputs": [
    {
     "name": "stdout",
     "output_type": "stream",
     "text": [
      "Sample Class with Name and Score\n"
     ]
    }
   ],
   "source": [
    "print(obj1)"
   ]
  },
  {
   "cell_type": "code",
   "execution_count": 44,
   "id": "f3518eb1-16a8-4ecb-8d4f-20e1263ffed0",
   "metadata": {},
   "outputs": [
    {
     "data": {
      "text/plain": [
       "80"
      ]
     },
     "execution_count": 44,
     "metadata": {},
     "output_type": "execute_result"
    }
   ],
   "source": [
    "len(obj2)"
   ]
  },
  {
   "cell_type": "code",
   "execution_count": 49,
   "id": "0e2c7293-d781-4d46-8b17-40bf71429d58",
   "metadata": {},
   "outputs": [
    {
     "data": {
      "text/plain": [
       "True"
      ]
     },
     "execution_count": 49,
     "metadata": {},
     "output_type": "execute_result"
    }
   ],
   "source": [
    "obj1>obj2"
   ]
  },
  {
   "cell_type": "code",
   "execution_count": 50,
   "id": "601c4e1d-dfc3-456c-8fcf-d1e0deca1ed5",
   "metadata": {},
   "outputs": [],
   "source": [
    "import numpy as np"
   ]
  },
  {
   "cell_type": "code",
   "execution_count": 51,
   "id": "4b576594-c5a6-45a0-b46b-b5a63f7ad9d1",
   "metadata": {},
   "outputs": [
    {
     "data": {
      "text/plain": [
       "['__repr__',\n",
       " '__hash__',\n",
       " '__call__',\n",
       " '__lt__',\n",
       " '__le__',\n",
       " '__eq__',\n",
       " '__ne__',\n",
       " '__gt__',\n",
       " '__ge__',\n",
       " '__reduce__',\n",
       " '__module__',\n",
       " '__doc__',\n",
       " '__name__',\n",
       " '__qualname__',\n",
       " '__self__',\n",
       " '__text_signature__',\n",
       " '__new__',\n",
       " '__str__',\n",
       " '__getattribute__',\n",
       " '__setattr__',\n",
       " '__delattr__',\n",
       " '__init__',\n",
       " '__reduce_ex__',\n",
       " '__getstate__',\n",
       " '__subclasshook__',\n",
       " '__init_subclass__',\n",
       " '__format__',\n",
       " '__sizeof__',\n",
       " '__dir__',\n",
       " '__class__']"
      ]
     },
     "execution_count": 51,
     "metadata": {},
     "output_type": "execute_result"
    }
   ],
   "source": [
    "np.array.__dir__()"
   ]
  },
  {
   "cell_type": "code",
   "execution_count": null,
   "id": "bfe89b32-0a5a-48a3-8034-984f33a482db",
   "metadata": {},
   "outputs": [],
   "source": []
  }
 ],
 "metadata": {
  "kernelspec": {
   "display_name": "Python 3 (ipykernel)",
   "language": "python",
   "name": "python3"
  },
  "language_info": {
   "codemirror_mode": {
    "name": "ipython",
    "version": 3
   },
   "file_extension": ".py",
   "mimetype": "text/x-python",
   "name": "python",
   "nbconvert_exporter": "python",
   "pygments_lexer": "ipython3",
   "version": "3.12.5"
  }
 },
 "nbformat": 4,
 "nbformat_minor": 5
}
